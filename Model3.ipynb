{
 "cells": [
  {
   "cell_type": "code",
   "execution_count": 1,
   "id": "accompanied-update",
   "metadata": {},
   "outputs": [],
   "source": [
    "#Homemade model standard NN"
   ]
  },
  {
   "cell_type": "code",
   "execution_count": 2,
   "id": "maritime-scanner",
   "metadata": {},
   "outputs": [
    {
     "name": "stderr",
     "output_type": "stream",
     "text": [
      "C:\\Anaconda\\envs\\gpu_3.7\\lib\\site-packages\\numpy\\_distributor_init.py:32: UserWarning: loaded more than 1 DLL from .libs:\n",
      "C:\\Anaconda\\envs\\gpu_3.7\\lib\\site-packages\\numpy\\.libs\\libopenblas.TXA6YQSD3GCQQC22GEQ54J2UDCXDXHWN.gfortran-win_amd64.dll\n",
      "C:\\Anaconda\\envs\\gpu_3.7\\lib\\site-packages\\numpy\\.libs\\libopenblas.WCDJNK7YVMPZQ2ME2ZZHJJRJ3JIKNDB7.gfortran-win_amd64.dll\n",
      "  stacklevel=1)\n"
     ]
    }
   ],
   "source": [
    "import numpy as np\n",
    "import pandas as pd\n",
    "import tensorflow as tf\n",
    "from tensorflow import keras\n"
   ]
  },
  {
   "cell_type": "code",
   "execution_count": 3,
   "id": "million-prince",
   "metadata": {},
   "outputs": [],
   "source": [
    "#Data preprocessing\n"
   ]
  },
  {
   "cell_type": "code",
   "execution_count": 4,
   "id": "numerical-rebecca",
   "metadata": {},
   "outputs": [],
   "source": [
    "#FInd en måde at cluster breath id data\n",
    "#Hvor mange timesteps er der i et breath: 80\n"
   ]
  },
  {
   "cell_type": "code",
   "execution_count": 5,
   "id": "hired-alignment",
   "metadata": {},
   "outputs": [],
   "source": [
    "dataset = pd.read_csv('train.csv')\n",
    "X_train = dataset.iloc[:, 2:-1].values\n",
    "X_test = dataset.iloc[:,-1].values #validation set"
   ]
  },
  {
   "cell_type": "code",
   "execution_count": 6,
   "id": "interstate-mountain",
   "metadata": {},
   "outputs": [],
   "source": [
    "dataset_y = pd.read_csv('test.csv')\n",
    "Y_testset = dataset_y.iloc[:, 2:].values #test set\n",
    "#Y_test = dataset_y.iloc[:,-1].values"
   ]
  },
  {
   "cell_type": "code",
   "execution_count": 7,
   "id": "federal-lebanon",
   "metadata": {},
   "outputs": [
    {
     "name": "stdout",
     "output_type": "stream",
     "text": [
      "(6036000, 5)\n",
      "(6036000,)\n",
      "(4024000, 5)\n"
     ]
    }
   ],
   "source": [
    "print(np.shape(X_train))\n",
    "print(np.shape(X_test))\n",
    "print(np.shape(Y_testset))"
   ]
  },
  {
   "cell_type": "code",
   "execution_count": 8,
   "id": "through-brake",
   "metadata": {},
   "outputs": [],
   "source": [
    "#feature scalling\n",
    "from sklearn.preprocessing import StandardScaler\n",
    "sc = StandardScaler()\n",
    "X_train = sc.fit_transform(X_train)\n",
    "\n",
    "Y_testset = sc.transform(Y_testset)"
   ]
  },
  {
   "cell_type": "code",
   "execution_count": 9,
   "id": "seasonal-colony",
   "metadata": {},
   "outputs": [],
   "source": [
    "#Husk at køre Y_testset med scaler fra X-train og ikke X_test\n",
    "X_test = X_test.reshape(-1,1)\n",
    "X_test = sc.fit_transform(X_test)"
   ]
  },
  {
   "cell_type": "code",
   "execution_count": 10,
   "id": "furnished-proposition",
   "metadata": {},
   "outputs": [],
   "source": [
    "#Y_testset = sc.transform(Y_testset)"
   ]
  },
  {
   "cell_type": "code",
   "execution_count": 11,
   "id": "ahead-eagle",
   "metadata": {},
   "outputs": [
    {
     "name": "stdout",
     "output_type": "stream",
     "text": [
      "(6036000, 1)\n"
     ]
    }
   ],
   "source": [
    "print(np.shape(X_test))"
   ]
  },
  {
   "cell_type": "code",
   "execution_count": 12,
   "id": "configured-polyester",
   "metadata": {},
   "outputs": [
    {
     "name": "stdout",
     "output_type": "stream",
     "text": [
      "Epoch 1/3\n",
      "WARNING:tensorflow:AutoGraph could not transform <function Model.make_train_function.<locals>.train_function at 0x000002281AC0EF78> and will run it as-is.\n",
      "Please report this to the TensorFlow team. When filing the bug, set the verbosity to 10 (on Linux, `export AUTOGRAPH_VERBOSITY=10`) and attach the full output.\n",
      "Cause: 'arguments' object has no attribute 'posonlyargs'\n",
      "To silence this warning, decorate the function with @tf.autograph.experimental.do_not_convert\n",
      "WARNING: AutoGraph could not transform <function Model.make_train_function.<locals>.train_function at 0x000002281AC0EF78> and will run it as-is.\n",
      "Please report this to the TensorFlow team. When filing the bug, set the verbosity to 10 (on Linux, `export AUTOGRAPH_VERBOSITY=10`) and attach the full output.\n",
      "Cause: 'arguments' object has no attribute 'posonlyargs'\n",
      "To silence this warning, decorate the function with @tf.autograph.experimental.do_not_convert\n",
      "188625/188625 [==============================] - 163s 860us/step - loss: 0.3259\n",
      "Epoch 2/3\n",
      "188625/188625 [==============================] - 162s 861us/step - loss: 0.2920\n",
      "Epoch 3/3\n",
      "188625/188625 [==============================] - 159s 843us/step - loss: 0.2921\n"
     ]
    },
    {
     "data": {
      "text/plain": [
       "<tensorflow.python.keras.callbacks.History at 0x2281ac82f88>"
      ]
     },
     "execution_count": 12,
     "metadata": {},
     "output_type": "execute_result"
    }
   ],
   "source": [
    "# Importing the Keras libraries and packages\n",
    "\n",
    "#from keras.models import Sequential\n",
    "#from keras.layers import Dense, Activation\n",
    "\n",
    "from tensorflow.keras import Sequential\n",
    "from tensorflow.keras.layers import Conv2D, Flatten, Dense, Activation\n",
    "\n",
    "# Initialising the ANN\n",
    "classifier = Sequential()\n",
    "\n",
    "# Adding the input layer and the first hidden layer\n",
    "classifier.add(Dense(80, input_dim = 5))\n",
    "\n",
    "\n",
    "classifier.add(Dense(160, activation = 'relu'))\n",
    "classifier.add(tf.keras.layers.Dropout(0.1))\n",
    "\n",
    "classifier.add(Dense(80, activation = 'sigmoid'))\n",
    "classifier.add(tf.keras.layers.Dropout(0.1))\n",
    "\n",
    "classifier.add(Dense(160, activation = 'relu'))\n",
    "classifier.add(tf.keras.layers.Dropout(0.1))\n",
    "\n",
    "classifier.add(Dense(1))\n",
    "\n",
    "\n",
    "lr_schedule = keras.optimizers.schedules.ExponentialDecay(\n",
    "    initial_learning_rate=0.01,\n",
    "    decay_steps=1000,\n",
    "    decay_rate=0.9)\n",
    "opt = keras.optimizers.Adam(learning_rate = lr_schedule)\n",
    "# Compiling the ANN\n",
    "\n",
    "classifier.compile(optimizer = opt, loss = 'MSE')\n",
    "\n",
    "# Fitting the ANN to the Training set\n",
    "classifier.fit(X_train, X_test, batch_size = 32, epochs=3)\n",
    "\n"
   ]
  },
  {
   "cell_type": "code",
   "execution_count": 13,
   "id": "original-concern",
   "metadata": {},
   "outputs": [],
   "source": [
    "#predicting the test results"
   ]
  },
  {
   "cell_type": "code",
   "execution_count": 14,
   "id": "israeli-brave",
   "metadata": {},
   "outputs": [
    {
     "name": "stdout",
     "output_type": "stream",
     "text": [
      "Model: \"sequential\"\n",
      "_________________________________________________________________\n",
      "Layer (type)                 Output Shape              Param #   \n",
      "=================================================================\n",
      "dense (Dense)                (None, 80)                480       \n",
      "_________________________________________________________________\n",
      "dense_1 (Dense)              (None, 160)               12960     \n",
      "_________________________________________________________________\n",
      "dropout (Dropout)            (None, 160)               0         \n",
      "_________________________________________________________________\n",
      "dense_2 (Dense)              (None, 80)                12880     \n",
      "_________________________________________________________________\n",
      "dropout_1 (Dropout)          (None, 80)                0         \n",
      "_________________________________________________________________\n",
      "dense_3 (Dense)              (None, 160)               12960     \n",
      "_________________________________________________________________\n",
      "dropout_2 (Dropout)          (None, 160)               0         \n",
      "_________________________________________________________________\n",
      "dense_4 (Dense)              (None, 1)                 161       \n",
      "=================================================================\n",
      "Total params: 39,441\n",
      "Trainable params: 39,441\n",
      "Non-trainable params: 0\n",
      "_________________________________________________________________\n"
     ]
    }
   ],
   "source": [
    "classifier.summary()"
   ]
  },
  {
   "cell_type": "code",
   "execution_count": 15,
   "id": "lesser-undergraduate",
   "metadata": {},
   "outputs": [],
   "source": [
    "#Submission"
   ]
  },
  {
   "cell_type": "code",
   "execution_count": null,
   "id": "blank-pavilion",
   "metadata": {},
   "outputs": [],
   "source": []
  },
  {
   "cell_type": "code",
   "execution_count": 16,
   "id": "divided-rating",
   "metadata": {},
   "outputs": [
    {
     "name": "stdout",
     "output_type": "stream",
     "text": [
      "WARNING:tensorflow:AutoGraph could not transform <function Model.make_predict_function.<locals>.predict_function at 0x000002281B1035E8> and will run it as-is.\n",
      "Please report this to the TensorFlow team. When filing the bug, set the verbosity to 10 (on Linux, `export AUTOGRAPH_VERBOSITY=10`) and attach the full output.\n",
      "Cause: 'arguments' object has no attribute 'posonlyargs'\n",
      "To silence this warning, decorate the function with @tf.autograph.experimental.do_not_convert\n",
      "WARNING: AutoGraph could not transform <function Model.make_predict_function.<locals>.predict_function at 0x000002281B1035E8> and will run it as-is.\n",
      "Please report this to the TensorFlow team. When filing the bug, set the verbosity to 10 (on Linux, `export AUTOGRAPH_VERBOSITY=10`) and attach the full output.\n",
      "Cause: 'arguments' object has no attribute 'posonlyargs'\n",
      "To silence this warning, decorate the function with @tf.autograph.experimental.do_not_convert\n"
     ]
    }
   ],
   "source": [
    "subprescalling = classifier.predict(Y_testset)"
   ]
  },
  {
   "cell_type": "code",
   "execution_count": 17,
   "id": "complimentary-graphic",
   "metadata": {},
   "outputs": [
    {
     "name": "stdout",
     "output_type": "stream",
     "text": [
      "[6.118532  6.0914006 6.978057  ... 6.3025265 6.3025265 6.3025265]\n"
     ]
    }
   ],
   "source": [
    "#print(subprescalling)\n",
    "#print(np.shape(subprescalling))\n",
    "subprescalling = sc.inverse_transform(subprescalling)\n",
    "prediction = np.reshape(subprescalling, 4024000)\n",
    "#print(np.shape(prediction))\n",
    "print(prediction)"
   ]
  },
  {
   "cell_type": "code",
   "execution_count": 18,
   "id": "turkish-original",
   "metadata": {},
   "outputs": [
    {
     "data": {
      "text/html": [
       "<div>\n",
       "<style scoped>\n",
       "    .dataframe tbody tr th:only-of-type {\n",
       "        vertical-align: middle;\n",
       "    }\n",
       "\n",
       "    .dataframe tbody tr th {\n",
       "        vertical-align: top;\n",
       "    }\n",
       "\n",
       "    .dataframe thead th {\n",
       "        text-align: right;\n",
       "    }\n",
       "</style>\n",
       "<table border=\"1\" class=\"dataframe\">\n",
       "  <thead>\n",
       "    <tr style=\"text-align: right;\">\n",
       "      <th></th>\n",
       "      <th>id</th>\n",
       "      <th>pressure</th>\n",
       "    </tr>\n",
       "  </thead>\n",
       "  <tbody>\n",
       "    <tr>\n",
       "      <th>0</th>\n",
       "      <td>1</td>\n",
       "      <td>0</td>\n",
       "    </tr>\n",
       "    <tr>\n",
       "      <th>1</th>\n",
       "      <td>2</td>\n",
       "      <td>0</td>\n",
       "    </tr>\n",
       "    <tr>\n",
       "      <th>2</th>\n",
       "      <td>3</td>\n",
       "      <td>0</td>\n",
       "    </tr>\n",
       "    <tr>\n",
       "      <th>3</th>\n",
       "      <td>4</td>\n",
       "      <td>0</td>\n",
       "    </tr>\n",
       "    <tr>\n",
       "      <th>4</th>\n",
       "      <td>5</td>\n",
       "      <td>0</td>\n",
       "    </tr>\n",
       "  </tbody>\n",
       "</table>\n",
       "</div>"
      ],
      "text/plain": [
       "   id  pressure\n",
       "0   1         0\n",
       "1   2         0\n",
       "2   3         0\n",
       "3   4         0\n",
       "4   5         0"
      ]
     },
     "execution_count": 18,
     "metadata": {},
     "output_type": "execute_result"
    }
   ],
   "source": [
    "submission = pd.read_csv('sample_submission.csv')\n",
    "submission.head()"
   ]
  },
  {
   "cell_type": "code",
   "execution_count": 19,
   "id": "inner-expansion",
   "metadata": {},
   "outputs": [
    {
     "name": "stdout",
     "output_type": "stream",
     "text": [
      "                 0\n",
      "0         6.118532\n",
      "1         6.091401\n",
      "2         6.978057\n",
      "3         8.235193\n",
      "4        10.418356\n",
      "...            ...\n",
      "4023995   6.302526\n",
      "4023996   6.302526\n",
      "4023997   6.302526\n",
      "4023998   6.302526\n",
      "4023999   6.302526\n",
      "\n",
      "[4024000 rows x 1 columns]\n"
     ]
    }
   ],
   "source": [
    "submission_1 = pd.DataFrame(subprescalling)\n",
    "print(submission_1)"
   ]
  },
  {
   "cell_type": "code",
   "execution_count": 20,
   "id": "conceptual-processor",
   "metadata": {},
   "outputs": [],
   "source": [
    "submission_ = pd.DataFrame({\"id\":submission[\"id\"],\"pressure\":prediction})"
   ]
  },
  {
   "cell_type": "code",
   "execution_count": null,
   "id": "spread-copyright",
   "metadata": {},
   "outputs": [],
   "source": []
  },
  {
   "cell_type": "code",
   "execution_count": null,
   "id": "focused-health",
   "metadata": {},
   "outputs": [],
   "source": []
  },
  {
   "cell_type": "code",
   "execution_count": 21,
   "id": "compound-bleeding",
   "metadata": {},
   "outputs": [],
   "source": [
    "submission_.to_csv('submissionModel3.csv', index = False)"
   ]
  },
  {
   "cell_type": "code",
   "execution_count": 22,
   "id": "dressed-complex",
   "metadata": {},
   "outputs": [],
   "source": [
    "#print(X_test)"
   ]
  },
  {
   "cell_type": "code",
   "execution_count": 23,
   "id": "asian-occupation",
   "metadata": {},
   "outputs": [],
   "source": [
    "#y_pred1 = classifier.predict(X_train[1:160,:])"
   ]
  },
  {
   "cell_type": "code",
   "execution_count": 24,
   "id": "inside-empire",
   "metadata": {},
   "outputs": [],
   "source": [
    "#print(y_pred1)"
   ]
  },
  {
   "cell_type": "code",
   "execution_count": 25,
   "id": "hungry-indianapolis",
   "metadata": {},
   "outputs": [],
   "source": [
    "#y2pred = classifier.predict(X_train)"
   ]
  },
  {
   "cell_type": "code",
   "execution_count": 26,
   "id": "private-norway",
   "metadata": {},
   "outputs": [],
   "source": [
    "#print(np.shape(y2pred))"
   ]
  },
  {
   "cell_type": "code",
   "execution_count": 27,
   "id": "electronic-appointment",
   "metadata": {},
   "outputs": [],
   "source": [
    "#print(y2pred)"
   ]
  },
  {
   "cell_type": "code",
   "execution_count": null,
   "id": "particular-humor",
   "metadata": {},
   "outputs": [],
   "source": []
  },
  {
   "cell_type": "code",
   "execution_count": null,
   "id": "violent-receipt",
   "metadata": {},
   "outputs": [],
   "source": []
  },
  {
   "cell_type": "code",
   "execution_count": null,
   "id": "correct-jonathan",
   "metadata": {},
   "outputs": [],
   "source": []
  },
  {
   "cell_type": "code",
   "execution_count": null,
   "id": "disturbed-brook",
   "metadata": {},
   "outputs": [],
   "source": []
  },
  {
   "cell_type": "code",
   "execution_count": null,
   "id": "positive-mauritius",
   "metadata": {},
   "outputs": [],
   "source": []
  }
 ],
 "metadata": {
  "kernelspec": {
   "display_name": "Python 3",
   "language": "python",
   "name": "python3"
  },
  "language_info": {
   "codemirror_mode": {
    "name": "ipython",
    "version": 3
   },
   "file_extension": ".py",
   "mimetype": "text/x-python",
   "name": "python",
   "nbconvert_exporter": "python",
   "pygments_lexer": "ipython3",
   "version": "3.7.9"
  }
 },
 "nbformat": 4,
 "nbformat_minor": 5
}
